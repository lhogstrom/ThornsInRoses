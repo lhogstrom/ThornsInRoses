{
 "metadata": {
  "kernelspec": {
   "codemirror_mode": {
    "name": "ipython",
    "version": 2
   },
   "display_name": "IPython (Python 2)",
   "language": "python",
   "name": "python2"
  },
  "language": "Julia",
  "name": "",
  "signature": "sha256:c75ed507936e935309689528de2bc9c3c4b9dacc453c01516ee69f6b9d3a3ac2"
 },
 "nbformat": 3,
 "nbformat_minor": 0,
 "worksheets": [
  {
   "cells": [
    {
     "cell_type": "code",
     "collapsed": false,
     "input": [
      "### display the smallest possible intiger for 32 bit\n",
      "\n",
      "xMin = realmin(Float32)\n",
      "xMin \n",
      "# show max number\n",
      "xMax = realmax(Float32)\n",
      "g = xMax + 2"
     ],
     "language": "python",
     "metadata": {},
     "outputs": [
      {
       "metadata": {},
       "output_type": "pyout",
       "prompt_number": 4,
       "text": [
        "3.4028235f38"
       ]
      }
     ],
     "prompt_number": 4
    },
    {
     "cell_type": "code",
     "collapsed": false,
     "input": [
      "### 64 bit\n",
      "xMax = realmax(Float64)\n",
      "xMax + 1"
     ],
     "language": "python",
     "metadata": {},
     "outputs": [
      {
       "metadata": {},
       "output_type": "pyout",
       "prompt_number": 5,
       "text": [
        "1.7976931348623157e308"
       ]
      }
     ],
     "prompt_number": 5
    },
    {
     "cell_type": "markdown",
     "metadata": {},
     "source": [
      "### Problem 2 ###\n",
      "\n",
      " Using the code from the pset1 Julia note- book posted on the web page, plot the accuracy of x_ = b\u2212\u221a(b2 \u2212c) for b = 1 and for a range of c values from 10\u22121 to 10\u221220. Explain the observed inaccuracy. "
     ]
    },
    {
     "cell_type": "code",
     "collapsed": false,
     "input": [
      "b =1\n",
      "c = logspace(-20,-1,50)\n",
      "length(c)\n",
      "x = b - sqrt(b^2 - c)\n",
      "# multiply by b^2\n",
      "set_bigfloat_precision(256)\n",
      "xbig = b - sqrt(b^2 - big(c))\n",
      "err = float64(abs(x-xbig) ./ abs(xbig))\n",
      "\n",
      "using PyPlot\n",
      "loglog(c, err, \"bo-\")\n",
      "xlabel(L\"c\")\n",
      "ylabel(L\"relative error in $x$\")\n",
      "title(L\"standard quadratic formula $x = b - \\sqrt{b^2 - c}$\")\n"
     ],
     "language": "python",
     "metadata": {},
     "outputs": [],
     "prompt_number": "*"
    },
    {
     "cell_type": "code",
     "collapsed": false,
     "input": [
      "# individual values\n",
      "\n",
      "# when the value of c is very small (~10^-20), the difference (b^2 - c)\n",
      "# is evaluated to (b^2 - c) = 1.0\n",
      "\n",
      "# when subtracting 1.0 from a very small number, the gap is too big so the\n",
      "# difference is just reported as 1.0\n",
      "\n",
      "c = 1e-20\n",
      "b =1\n",
      "length(c)\n",
      "x = b - sqrt(b^2 - c)\n",
      "set_bigfloat_precision(256)\n",
      "xbig = b - sqrt(b^2 - big(c))\n",
      "err = float64(abs(x-xbig) ./ abs(xbig))\n",
      "x,xbig,err"
     ],
     "language": "python",
     "metadata": {},
     "outputs": [
      {
       "metadata": {},
       "output_type": "pyout",
       "prompt_number": 8,
       "text": [
        "(0.0,4.999999999999999725778857271047858257276412800292201564423377798038359518518339e-21 with 256 bits of precision,1.0)"
       ]
      }
     ],
     "prompt_number": 8
    },
    {
     "cell_type": "code",
     "collapsed": false,
     "input": [
      "(b^2 - c),(b^2 - big(c)), b - sqrt(b^2 - big(c))"
     ],
     "language": "python",
     "metadata": {},
     "outputs": [
      {
       "metadata": {},
       "output_type": "pyout",
       "prompt_number": 10,
       "text": [
        "(1.0,9.999999999999999999900000000000000005484672854579042834827049629721260755289228e-01 with 256 bits of precision,4.999999999999999725778857271047858257276412800292201564423377798038359518518339e-21 with 256 bits of precision)"
       ]
      }
     ],
     "prompt_number": 10
    },
    {
     "cell_type": "markdown",
     "metadata": {},
     "source": [
      "part b) to resolve the relative error - try making the gap based on e_machine"
     ]
    },
    {
     "cell_type": "code",
     "collapsed": false,
     "input": [
      "c=1e-20\n",
      "\n",
      "sqr_diff = b^2 - c \n",
      "if c != b^2 && sqr_diff == 1.0\n",
      "    sqr_diff = 1-eps()\n",
      "end\n",
      "x = b - sqrt(sqr_diff)\n",
      "set_bigfloat_precision(256)\n",
      "xbig = b - sqrt(b^2 - big(c))\n",
      "err = float64(abs(x-xbig) ./ abs(xbig))\n",
      "x,xbig,err\n"
     ],
     "language": "python",
     "metadata": {},
     "outputs": [
      {
       "metadata": {},
       "output_type": "pyout",
       "prompt_number": 39,
       "text": [
        "(1.1102230246251565e-16,4.999999999999999725778857271047858257276412800292201564423377798038359518518339e-21 with 256 bits of precision,22203.46049250313)"
       ]
      }
     ],
     "prompt_number": 39
    },
    {
     "cell_type": "code",
     "collapsed": false,
     "input": [
      "x^2 + 2x + c = 0\n",
      "x(x+2) + c = 0\n",
      "x(x+2) = -c\n",
      "\n",
      "(x - rt(c)) (x - rt(c))"
     ],
     "language": "python",
     "metadata": {},
     "outputs": [
      {
       "ename": "LoadError",
       "evalue": "syntax: \"^(x,2)\" is not a valid function argument name\nwhile loading In[1], in expression starting on line 2",
       "output_type": "pyerr",
       "traceback": [
        "syntax: \"^(x,2)\" is not a valid function argument name\nwhile loading In[1], in expression starting on line 2",
        ""
       ]
      }
     ],
     "prompt_number": 1
    },
    {
     "cell_type": "markdown",
     "metadata": {},
     "source": [
      "### Catastrophic cancelation ###\n",
      "\n",
      "\"Catastrophic cancellation occurs if two numbers are close and are the result of previous calculations, so have inaccuracies in the lower digits. Most of the accurate digits may cancel as a result of subtraction, leaving behind cruft in the lower order digits. On the other hand, if the operands are exactly known rather than calculated their difference is guaranteed to have a very small relative error, which is referred to as benign cancellation\" http://accu.org/index.php/journals/1558"
     ]
    },
    {
     "cell_type": "heading",
     "level": 2,
     "metadata": {},
     "source": [
      "Problem 2: Quadratic blues"
     ]
    },
    {
     "cell_type": "markdown",
     "metadata": {},
     "source": [
      "$$ \\text{First order Taylor series expansion:}\\\\\n",
      "0 = f(x_n) + f'(x_n)(x_{n+1} - x_n) \\\\\n",
      "x_{n+1} = \\frac{f'(x_n)(x_n) - f(x_n)}{f'(x_n)} \\\\\n",
      "x_{n+1} = x_n - \\frac{f(x_n)}{f'(x_n)}\\\\ $$\n",
      "\n",
      "$$ \\text{Second order Taylor series expansion:}\\\\\n",
      "0 = f(x_n) + f'(x_n)(x_{n+1} - x_n) + \\frac{f''(x_n)(x_{n+1} - x_n)^2}{2!} \\\\\n",
      "0 = f(x_n) + (x_{n+1} - x_n) (f'(x_n) + \\frac{f''(x_n)(x_{n+1} - x_n)}{2!}) \\\\\n",
      "(x_{n+1})(f'(x_n)) + (x_{n+1})\\frac{f''(x_n)(x_{n+1} - x_n)}{2!} = - f(x_n) + (x_{n})(f'(x_n)) + (x_{n})\\frac{f''(x_n)(x_{n+1} - x_n)}{2!}\\\\\n",
      "(x_{n+1})(f'(x_n) + \\frac{1}{2} f''(x_n)(x_{n+1} - x_n)) = - f(x_n) + (x_{n})(f'(x_n) + \\frac{1}{2} f''(x_n)(x_{n+1}- x_n))\\\\\n",
      "x_{n+1} = x_n - \\frac{f(x_n)}{f'(x_n) + \\frac{1}{2} f''(x_n)(x_{n+1} - x_n)} \\\\\n",
      "\\\\\n",
      "\\text{replace } x_{n+1} \\text{ with first order newton estimate: }  x_{n+1} = x_n - \\frac{f(x_n)}{f'(x_n)} \\\\\n",
      "x_{n+1} = x_n - \\frac{f(x_n)}{f'(x_n) + \\frac{1}{2} f''(x_n))(x_n - \\frac{f(x_n)}{f'(x_n)}) - x_n)} \\\\\n",
      "x_{n+1} = x_n - \\frac{f(x_n)}{f'(x_n) + \\frac{1}{2} f''(x_n))(-\\frac{f(x_n)}{f'(x_n)})} \\\\\n",
      "\\text{multiply numerator and denominator by } 2f'(x_n) \\\\\n",
      "x_{n+1} = x_n - \\frac{2f(x_n) f'(x_n)}{2f'(x_n)^2 -  f''(x_n)(f(x_n))} \\\\ $$"
     ]
    },
    {
     "cell_type": "code",
     "collapsed": false,
     "input": [],
     "language": "python",
     "metadata": {},
     "outputs": [],
     "prompt_number": 2
    },
    {
     "cell_type": "code",
     "collapsed": false,
     "input": [],
     "language": "python",
     "metadata": {},
     "outputs": []
    }
   ],
   "metadata": {}
  }
 ]
}