{
 "cells": [
  {
   "cell_type": "code",
   "execution_count": 100,
   "metadata": {
    "collapsed": true
   },
   "outputs": [],
   "source": [
    "#Larson Hogstrom\n",
    "#18.337\n",
    "#PSET1\n",
    "#9/28/2015"
   ]
  },
  {
   "cell_type": "markdown",
   "metadata": {},
   "source": [
    "1a. What is a nice formula for the broken line in the parallel prefix curve?: <img src=scaling.png width=300>"
   ]
  },
  {
   "cell_type": "markdown",
   "metadata": {
    "collapsed": true
   },
   "source": [
    "1b. Can you roughly explain the formula?  (Not a formal proof)"
   ]
  },
  {
   "cell_type": "markdown",
   "metadata": {},
   "source": [
    "2.The exclusive prefix computes the \"sum\" of every number but yourself. ($y_i = \\sum_{j\\ne i}x_j$) <br>\n",
    "Here sum is general, and there is no concept of subtraction.  Write a recursive function similar to the\n",
    "one in lecture 3, that computes the exclusive prefix.  Give an example why this would be preferred over\n",
    "subtraction."
   ]
  },
  {
   "cell_type": "markdown",
   "metadata": {},
   "source": [
    "3.Write a parallel-style code that computes the carry lookahead addition of Babbage's using only matrix multiply prefix and embarassingly parallel operations."
   ]
  },
  {
   "cell_type": "code",
   "execution_count": 24,
   "metadata": {
    "collapsed": true
   },
   "outputs": [],
   "source": [
    "using PyPlot"
   ]
  },
  {
   "cell_type": "markdown",
   "metadata": {},
   "source": [
    "## Problem 1a"
   ]
  },
  {
   "cell_type": "code",
   "execution_count": null,
   "metadata": {
    "collapsed": true
   },
   "outputs": [],
   "source": [
    "### plot curve ### \n",
    "#parameters for step down\n",
    "step_list = float([2^m for m=[1:6]])\n",
    "append!(step_list,float([3*2^m for m=[1:4]]))\n",
    "step_rate = m*2.5\n",
    "step_down = float(0)\n",
    "\n",
    "## line parameters\n",
    "m=9/80 # slope\n",
    "b=1 #intercept\n",
    "x=float([1:80])\n",
    "\n",
    "#apply function\n",
    "y = zeros(Float64,80)\n",
    "for (ij,j) in enumerate(x)\n",
    "    if ij in step_list\n",
    "        step_down = step_down + step_rate\n",
    "    else\n",
    "        null = 1\n",
    "    end\n",
    "    y[ij] = m*j + b - step_down\n",
    "end\n"
   ]
  },
  {
   "cell_type": "code",
   "execution_count": 131,
   "metadata": {
    "collapsed": false,
    "scrolled": true
   },
   "outputs": [
    {
     "data": {
      "image/png": "[encoded data removed]",
      "text/plain": [
       "Figure(PyObject <matplotlib.figure.Figure object at 0x11c8a7950>)"
      ]
     },
     "metadata": {},
     "output_type": "display_data"
    }
   ],
   "source": [
    "#make plot\n",
    "ax = axes()\n",
    "ax[:set_ylim]([0,8])\n",
    "p = plot(x,y,\".\")\n",
    "xlabel(\"Number of processors, p\")\n",
    "ylabel(\"Speedup, r\")\n",
    "grid(\"on\")\n"
   ]
  },
  {
   "cell_type": "markdown",
   "metadata": {},
   "source": [
    "## Problem 1b\n",
    "\n",
    "The formula can be expressed as follows:\n",
    "\n",
    "$$ \\textit{speedup} = 1 + mp - r * \n",
    "\\begin{cases}\n",
    "  1 & \\mbox{if } p \\in \\{2^k\\} \\\\\n",
    "  0 & \\text{otherwise} \\\\\n",
    "\\end{cases}\n",
    "-r* \n",
    "\\begin{cases}\n",
    "  1 & \\mbox{if } p \\in \\{3(2^k)\\} \\\\\n",
    "  0 & \\text{otherwise} \\\\\n",
    "\\end{cases}\n",
    "$$\n",
    "\n",
    "where $m$ is the linear term for increasing speed with additional processors. The variable $r$ is a step down term associated with increased overhead for adding new processors. This penalty is most noticable whenever the number of processors is not able to efficently divide the matrix multiply work (most efficent at $2^k$ and $3(2^k)$).\n"
   ]
  },
  {
   "cell_type": "markdown",
   "metadata": {
    "collapsed": false
   },
   "source": [
    "# Problem 2 #\n",
    "2.The exclusive prefix computes the \"sum\" of every number but yourself. ($y_i = \\sum_{j\\ne i}x_j$) <br>\n",
    "Here sum is general, and there is no concept of subtraction.  Write a recursive function similar to the\n",
    "one in lecture 3, that computes the exclusive prefix.  Give an example why this would be preferred over\n",
    "subtraction.\n",
    "\n",
    "https://en.wikipedia.org/wiki/Prefix_sum\n"
   ]
  },
  {
   "cell_type": "code",
   "execution_count": 98,
   "metadata": {
    "collapsed": false
   },
   "outputs": [
    {
     "data": {
      "text/plain": [
       "prefix_serial! (generic function with 1 method)"
      ]
     },
     "execution_count": 98,
     "metadata": {},
     "output_type": "execute_result"
    }
   ],
   "source": [
    "# basic prefix sum\n",
    "function prefix_serial!(y, ⋅)\n",
    "    for i=2:length(y)\n",
    "        y[i] = y[i-1] ⋅ y[i]\n",
    "    end\n",
    "    y\n",
    "end"
   ]
  },
  {
   "cell_type": "code",
   "execution_count": 99,
   "metadata": {
    "collapsed": false
   },
   "outputs": [
    {
     "data": {
      "text/plain": [
       "prefix_exclusive_serial (generic function with 1 method)"
      ]
     },
     "execution_count": 99,
     "metadata": {},
     "output_type": "execute_result"
    }
   ],
   "source": [
    "# define prefix exclusive sume - naive \n",
    "function prefix_exclusive_serial(y, +)\n",
    "    m = zeros(Int64,length(y))\n",
    "    for i=1:length(y)\n",
    "        if i == 1\n",
    "            m[i] = sum(y[i+1:end])\n",
    "        else\n",
    "            m[i] = sum(y[1:i-1]) + sum(y[i+1:end])\n",
    "        end\n",
    "    end\n",
    "    m\n",
    "end"
   ]
  },
  {
   "cell_type": "markdown",
   "metadata": {},
   "source": [
    "## why might exclusive prefix sum be prefered over subtraction? ##\n",
    "\n",
    "One reason would be that subtraction could introduce large floating point errors in the during the sumation. \n",
    "\n",
    "$$ d.ddd ... d  \\text{ x } \\beta^e $$\n",
    "\n",
    "Where $ d.ddd ... d $ is the significant and $\\beta$ is the significand. One scenario would be if the ith entry of the input matrix where much bigger than all other entries. In such a case, the smaller values might get washed out when added to the largest floating point value. In such a case $\\sum_{j\\ne i}x_j \\ne (\\sum_{j}x_j) - x_i$."
   ]
  },
  {
   "cell_type": "code",
   "execution_count": 6,
   "metadata": {
    "collapsed": false
   },
   "outputs": [
    {
     "data": {
      "text/plain": [
       "false"
      ]
     },
     "execution_count": 6,
     "metadata": {},
     "output_type": "execute_result"
    }
   ],
   "source": [
    "### example showing that subtraction can introduce floating point errors ### \n",
    "x_with = [.3 4 10^44 1]\n",
    "x_without = [.3 4 1]\n",
    "(sum(x_with) - 10^44) == sum(x_without)"
   ]
  },
  {
   "cell_type": "code",
   "execution_count": 34,
   "metadata": {
    "collapsed": false
   },
   "outputs": [
    {
     "data": {
      "text/plain": [
       "prefix_recursive (generic function with 1 method)"
      ]
     },
     "execution_count": 34,
     "metadata": {},
     "output_type": "execute_result"
    }
   ],
   "source": [
    "#prefix recursive, power of 2 only\n",
    "\n",
    "function prefix_recursive(x,⋅)\n",
    "    n = length(x)\n",
    "    if n>1 \n",
    "        \n",
    "        #w=x[1:2:n]+x[2:2:n] #should this be the . operator? \n",
    "        w=x[1:2:n]⋅x[2:2:n] \n",
    "     \n",
    "        w=prefix_recursive(w,⋅)\n",
    "      \n",
    "        x[2:2:n] = w\n",
    "        x[1:2:n] += [0, w[1:end-1]] # update odds (try update evens, or try exclusive)\n",
    "   end\n",
    "   x\n",
    "end"
   ]
  },
  {
   "cell_type": "code",
   "execution_count": 103,
   "metadata": {
    "collapsed": false
   },
   "outputs": [
    {
     "data": {
      "text/plain": [
       "prefix_exclusive_serial (generic function with 1 method)"
      ]
     },
     "execution_count": 103,
     "metadata": {},
     "output_type": "execute_result"
    }
   ],
   "source": [
    "#Take an input array, pop value for the ith entry, and perform the usual prefix_recursive\n",
    "#This only works on arrays of size 2^n+1\n",
    "function prefix_exclusive_serial(y, +)\n",
    "    n = length(x)\n",
    "    m = zeros(Int64,length(y))\n",
    "    x_small = zeros(Int64,length(y)-1)\n",
    "    if ~ispow2(n) #base case\n",
    "        for i=1:length(y)\n",
    "            if i == 1\n",
    "                x_small = y[i+1:end]\n",
    "            else\n",
    "                x_small = y[1:i-1]\n",
    "                append!(x_small,y[i+1:end])\n",
    "            end\n",
    "            m[i] = sum(x_small)\n",
    "        end\n",
    "    end\n",
    "    m\n",
    "    #x_small\n",
    "end\n"
   ]
  },
  {
   "cell_type": "code",
   "execution_count": 109,
   "metadata": {
    "collapsed": false
   },
   "outputs": [
    {
     "name": "stdout",
     "output_type": "stream",
     "text": [
      "45"
     ]
    },
    {
     "data": {
      "text/plain": [
       "true"
      ]
     },
     "execution_count": 109,
     "metadata": {},
     "output_type": "execute_result"
    }
   ],
   "source": [
    "y=[1:9]\n",
    "print(sum(y))\n",
    "prefix_exclusive_serial(y,+)\n",
    "#prefix_recursive([1:8],+)\n",
    "#sqrt(8)\n",
    "#isqrt(16)\n",
    "ispow2(8)"
   ]
  },
  {
   "cell_type": "code",
   "execution_count": 102,
   "metadata": {
    "collapsed": false
   },
   "outputs": [
    {
     "name": "stdout",
     "output_type": "stream",
     "text": [
      "Base.ispow2(n) -> Bool\n",
      "\n",
      "   Test whether \"n\" is a power of two\n"
     ]
    }
   ],
   "source": [
    "?ispow2"
   ]
  },
  {
   "cell_type": "markdown",
   "metadata": {},
   "source": [
    "# Problem 3\n",
    "Write a parallel-style code that computes the carry lookahead addition of Babbage's using \n",
    "only matrix multiply prefix and embarassingly parallel operations."
   ]
  },
  {
   "cell_type": "code",
   "execution_count": 318,
   "metadata": {
    "collapsed": false
   },
   "outputs": [
    {
     "data": {
      "text/plain": [
       "int_to_bit_array (generic function with 1 method)"
      ]
     },
     "execution_count": 318,
     "metadata": {},
     "output_type": "execute_result"
    }
   ],
   "source": [
    "#start by defining a function to convert an integer a 7-element array of bits\n",
    "function int_to_bit_array(x)\n",
    "    #convert intiger to 7 bit array\n",
    "    m = bits(x)\n",
    "    g = m[58:end]\n",
    "    y = [int64(string(i)) for i=g] \n",
    "    y\n",
    "end"
   ]
  },
  {
   "cell_type": "markdown",
   "metadata": {},
   "source": [
    "For the cary-lookahead adder, the result of the 1 bit full adder depend on three values: the input bits (a and b) and the carry value (c). \n",
    "\n",
    "The resulting sum for a 1 bit adder can be defined as follows:\n",
    "\n",
    "$$s = a ⊕ b ⊕ c_{in} $$\n",
    "\n",
    "In addition to yielding a sum value, the adder also outputs a carry value $c_{out}$ that is passed to the next adder in the sequence:\n",
    "\n",
    "$$ c_{out} = ab + ac_{in} ⊕ bc_{in} $$\n",
    "\n",
    "$$ = ab + c_{in}(a ⊕ b) $$\n",
    "\n",
    "To keep track of many carry results and passes, this formulation can be adapted to matrix notation:\n",
    "\n",
    "$$ \\begin{pmatrix} c_i \\\\  1 \\end{pmatrix} = \\begin{pmatrix} a_i⊕b_i & a_i b_i \\\\ 0 & 1 \\end{pmatrix}\n",
    "\\begin{pmatrix} c_{i-1} \\\\  1 \\end{pmatrix} $$ \n",
    "\n",
    "Given the starting carry, the ith cary can be calulated as follows\n",
    "\n",
    "$$\\begin{pmatrix} c_{i} \\\\  1 \\end{pmatrix} \n",
    "= M_i M_{i-1} ... M_1 \\begin{pmatrix} c_{1} \\\\  1 \\end{pmatrix} $$ \n",
    "\n",
    "Where the matrix M is defined as follows\n",
    "\n",
    "$$ M_i = \\begin{pmatrix} a_i⊕b_i & a_i b_i \\\\ 0 & 1 \\end{pmatrix} $$"
   ]
  },
  {
   "cell_type": "code",
   "execution_count": 272,
   "metadata": {
    "collapsed": false
   },
   "outputs": [
    {
     "data": {
      "text/plain": [
       "mtrx_build (generic function with 1 method)"
      ]
     },
     "execution_count": 272,
     "metadata": {},
     "output_type": "execute_result"
    }
   ],
   "source": [
    "function mtrx_build(a,b)\n",
    "    M = [a$b a*b; 0 1]\n",
    "    M\n",
    "end"
   ]
  },
  {
   "cell_type": "code",
   "execution_count": 311,
   "metadata": {
    "collapsed": false
   },
   "outputs": [
    {
     "data": {
      "text/plain": [
       "true"
      ]
     },
     "execution_count": 311,
     "metadata": {},
     "output_type": "execute_result"
    }
   ],
   "source": [
    "n1 = 10\n",
    "n2 = 2\n",
    "x1 = int_to_bit_array(n1)\n",
    "x2 = int_to_bit_array(n2)\n",
    "reverse_index = [8-i for i in 1:7]\n",
    "c = zeros(Int64,8)\n",
    "Mm = [1 0; 0 1]\n",
    "for (ix,i) in enumerate(reverse_index)\n",
    "    M = mtrx_build(x1[i],x2[i]) \n",
    "    Mm = M * Mm\n",
    "    Cv = [c[i+1] 1]'\n",
    "    product1 = Mm * Cv\n",
    "    c[i] = product1[1]\n",
    "end\n",
    "s = x1 $ x2 $ c[2:8]\n",
    "# check that reported bit sum matches bits of true sum\n",
    "s == int_to_bit_array(n1+n2)"
   ]
  },
  {
   "cell_type": "markdown",
   "metadata": {},
   "source": [
    "### Calculate bit addition using embarassingly parallel operations"
   ]
  },
  {
   "cell_type": "code",
   "execution_count": 283,
   "metadata": {
    "collapsed": false
   },
   "outputs": [
    {
     "data": {
      "text/plain": [
       "killallworkers (generic function with 1 method)"
      ]
     },
     "execution_count": 283,
     "metadata": {},
     "output_type": "execute_result"
    }
   ],
   "source": [
    "killallworkers()=rmprocs(procs()[2:end])"
   ]
  },
  {
   "cell_type": "code",
   "execution_count": 315,
   "metadata": {
    "collapsed": false
   },
   "outputs": [
    {
     "data": {
      "text/plain": [
       "true"
      ]
     },
     "execution_count": 315,
     "metadata": {},
     "output_type": "execute_result"
    },
    {
     "name": "stderr",
     "output_type": "stream",
     "text": [
      "exception on 82: exception on 85: exception on 83: exception on 84: ERROR: `getindex` has no method matching getindex(::Enumerate{Array{Int64,1}}, ::UnitRange{Int64})\n",
      " in anonymous at no file:1446\n",
      " in anonymous at multi.jl:1279\n",
      " in anonymous at multi.jl:848\n",
      " in run_work_thunk at multi.jl:621\n",
      " in run_work_thunk at multi.jl:630\n",
      " in anonymous at task.jl:6\n",
      "ERROR: `getindex` has no method matching getindex(::Enumerate{Array{Int64,1}}, ::UnitRange{Int64})\n",
      " in anonymous at no file:1446\n",
      " in anonymous at multi.jl:1279\n",
      " in anonymous at multi.jl:848\n",
      " in run_work_thunk at multi.jl:621\n",
      " in run_work_thunk at multi.jl:630\n",
      " in anonymous at task.jl:6\n",
      "ERROR: `getindex` has no method matching getindex(::Enumerate{Array{Int64,1}}, ::UnitRange{Int64})\n",
      " in anonymous at no file:1446\n",
      " in anonymous at multi.jl:1279\n",
      " in anonymous at multi.jl:848\n",
      " in run_work_thunk at multi.jl:621\n",
      " in run_work_thunk at multi.jl:630\n",
      " in anonymous at task.jl:6\n",
      "ERROR: `getindex` has no method matching getindex(::Enumerate{Array{Int64,1}}, ::UnitRange{Int64})\n",
      " in anonymous at no file:1446\n",
      " in anonymous at multi.jl:1279\n",
      " in anonymous at multi.jl:848\n",
      " in run_work_thunk at multi.jl:621\n",
      " in run_work_thunk at multi.jl:630\n",
      " in anonymous at task.jl:6\n"
     ]
    }
   ],
   "source": [
    "n1 = 8\n",
    "n2 = 5\n",
    "x1 = int_to_bit_array(n1)\n",
    "x2 = int_to_bit_array(n2)\n",
    "reverse_index = [8-i for i in 1:7]\n",
    "c = zeros(Int64,8)\n",
    "Mm = [1 0; 0 1]\n",
    "\n",
    "killallworkers()\n",
    "addprocs(4)\n",
    "@parallel for (ix,i) in enumerate(reverse_index)\n",
    "    println(ix)\n",
    "    M = mtrx_build(x1[i],x2[i]) \n",
    "    Mm = M * Mm\n",
    "    Cv = [c[i+1] 1]'\n",
    "    product1 = Mm * Cv\n",
    "    c[i] = product1[1]\n",
    "end\n",
    "\n",
    "s = x1 $ x2 $ c[2:8]\n",
    "# check that reported bit sum matches bits of true sum\n",
    "s == int_to_bit_array(n1+n2)"
   ]
  },
  {
   "cell_type": "markdown",
   "metadata": {},
   "source": [
    "*Collaboration acknowlegments:\n",
    "\n",
    "I discussed stratagies for solving Problem 2 with A. Albaiz and Problem 3 with M. Sindi. "
   ]
  }
 ],
 "metadata": {
  "kernelspec": {
   "display_name": "Julia 0.3.11",
   "language": "julia",
   "name": "julia-0.3"
  },
  "language_info": {
   "file_extension": ".jl",
   "mimetype": "application/julia",
   "name": "julia",
   "version": "0.3.11"
  }
 },
 "nbformat": 4,
 "nbformat_minor": 0
}
