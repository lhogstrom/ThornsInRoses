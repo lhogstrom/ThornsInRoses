{
 "metadata": {
  "name": ""
 },
 "nbformat": 3,
 "nbformat_minor": 0,
 "worksheets": [
  {
   "cells": [
    {
     "cell_type": "code",
     "collapsed": false,
     "input": [
      "from mpl_toolkits.mplot3d import Axes3D\n",
      "import matplotlib.pyplot as plt\n",
      "import numpy as np\n",
      "import pandas as pd\n",
      "from pylab import *\n",
      "import Image\n",
      "\n",
      "from tifffile import imsave\n",
      "%matplotlib inline"
     ],
     "language": "python",
     "metadata": {},
     "outputs": [
      {
       "output_type": "stream",
       "stream": "stderr",
       "text": [
        "tifffile.py:156: UserWarning: failed to import the optional _tifffile C extension module.\n",
        "Loading of some compressed images will be slow.\n",
        "Tifffile.c can be obtained at http://www.lfd.uci.edu/~gohlke/\n",
        "  \"failed to import the optional _tifffile C extension module.\\n\"\n",
        "tifffile.py:3092: UserWarning: could not import module importlib\n",
        "  warnings.warn('could not import module importlib')\n"
       ]
      }
     ],
     "prompt_number": 1
    },
    {
     "cell_type": "code",
     "collapsed": false,
     "input": [
      "def addBead(r,xf,yf,zf):\n",
      "    '''\n",
      "    r - sphere size\n",
      "    xf - x offset \n",
      "    yf - y offset   \n",
      "    zf - z offset     \n",
      "    '''\n",
      "    u = np.linspace(0, 2 * np.pi, 100)\n",
      "    v = np.linspace(0, np.pi, 100)\n",
      "    #construct bead\n",
      "    x = r * np.outer(np.cos(u), np.sin(v)) + xf\n",
      "    y = r * np.outer(np.sin(u), np.sin(v)) + yf\n",
      "    z = r * np.outer(np.ones(np.size(u)), np.cos(v)) +zf\n",
      "    return x, y, z"
     ],
     "language": "python",
     "metadata": {},
     "outputs": [],
     "prompt_number": 2
    },
    {
     "cell_type": "code",
     "collapsed": false,
     "input": [
      "def make_plane(xoff,yoff,zoff,normal,grid_range,ref_plane='z'):\n",
      "    '''\n",
      "    xoff - x offset \n",
      "    yoff - y offset\n",
      "    zoff - z offset\n",
      "    normal - define plane, eg: np.array([0, 0, 1])\n",
      "    '''\n",
      "    point  = np.array([0, 0, 0])\n",
      "    # a plane is a*x+b*y+c*z+d=0\n",
      "    # [a,b,c] is the normal. Thus, we have to calculate\n",
      "    # d and we're set\n",
      "    d = -point.dot(normal)\n",
      "    ### x_ref\n",
      "    if ref_plane =='x':\n",
      "        # xy are the base grid\n",
      "        z2, yy = np.meshgrid(grid_range, grid_range)\n",
      "        xx = (-normal[2]*z2 - normal[1]*yy - d) * 1. /normal[0] # convert to real\n",
      "    ### y_ref\n",
      "    if ref_plane =='y':\n",
      "        # xz are the base grid\n",
      "        xx, z2 = np.meshgrid(grid_range, grid_range)\n",
      "        yy = (-normal[0]*xx - normal[2]*z2 - d) * 1. /normal[1] # convert to real\n",
      "    ### z_ref\n",
      "    if ref_plane =='z':\n",
      "        # xy are the base grid\n",
      "        xx, yy = np.meshgrid(grid_range, grid_range)\n",
      "        z2 = (-normal[0]*xx - normal[1]*yy - d) * 1. /normal[2] # convert to real\n",
      "    #apply offset \n",
      "    xx = xx + xoff\n",
      "    yy = yy + yoff\n",
      "    zz = z2 + zoff\n",
      "    return xx, yy, zz"
     ],
     "language": "python",
     "metadata": {},
     "outputs": [],
     "prompt_number": 3
    },
    {
     "cell_type": "markdown",
     "metadata": {},
     "source": [
      "### Save multiplane tiff file to be loaded into Fiji ###"
     ]
    },
    {
     "cell_type": "code",
     "collapsed": false,
     "input": [
      "wkdir = '/Users/hogstrom/Dropbox (MIT)/Neuron_data/SPIM_simulation/tiff'\n",
      "beadSize = .05\n",
      "nBeads = 200\n",
      "bcMtrx = np.random.random_integers(-3,3,size=(nBeads,3)) #bead coordinate matrix\n",
      "np.random.random((3,3))\n",
      "\n",
      "a=-3\n",
      "b=3\n",
      "g = (b - a) * random_sample() + a\n",
      "\n",
      "fig = plt.figure() \n",
      "ax = fig.add_subplot(111, projection='3d')\n",
      "# add multiple beads\n",
      "x = np.zeros((0,100))\n",
      "y = np.zeros((0,100))\n",
      "z = np.zeros((0,100))\n",
      "for i in range(nBeads):\n",
      "    x1,y1,z1 = addBead(beadSize, bcMtrx[i,0], bcMtrx[i,1], bcMtrx[i,2])\n",
      "    x = np.concatenate((x,x1))\n",
      "    y = np.concatenate((y,y1))\n",
      "    z = np.concatenate((z,z1))\n",
      "    ax.plot_surface(x1, y1, z1,  rstride=4, cstride=4, color='b')\n",
      "show()\n",
      "print bcMtrx\n"
     ],
     "language": "python",
     "metadata": {},
     "outputs": [
      {
       "metadata": {},
       "output_type": "display_data",
       "png": "[encoded data removed]",
       "text": [
        "<matplotlib.figure.Figure at 0x1096d8210>"
       ]
      },
      {
       "output_type": "stream",
       "stream": "stdout",
       "text": [
        "[[-2 -2 -3]\n",
        " [ 3  3  0]\n",
        " [-2 -3 -2]\n",
        " [ 1  3 -3]\n",
        " [ 2  1  1]\n",
        " [ 1  0 -2]\n",
        " [ 3  3  0]\n",
        " [ 1 -2  3]\n",
        " [ 0  0 -2]\n",
        " [ 0 -2 -1]\n",
        " [ 3  2 -3]\n",
        " [-3  3 -3]\n",
        " [-2 -1  0]\n",
        " [ 2  3  1]\n",
        " [ 0  3 -2]\n",
        " [-2  0 -3]\n",
        " [ 1  0 -1]\n",
        " [-3 -2 -3]\n",
        " [ 0 -2  3]\n",
        " [-2 -2  1]\n",
        " [ 2 -1  3]\n",
        " [-3 -1  2]\n",
        " [ 2  1 -2]\n",
        " [ 0 -3  3]\n",
        " [ 0 -2 -1]\n",
        " [ 0  2 -3]\n",
        " [ 3  0 -2]\n",
        " [ 2  0 -1]\n",
        " [-2  0 -1]\n",
        " [ 0 -1 -3]\n",
        " [ 1 -2 -1]\n",
        " [ 3  0  0]\n",
        " [-1 -3 -3]\n",
        " [ 3  0 -2]\n",
        " [ 3 -1 -2]\n",
        " [ 0 -3  2]\n",
        " [ 2 -2 -3]\n",
        " [ 1  2  0]\n",
        " [ 3 -1 -3]\n",
        " [ 2 -1  2]\n",
        " [ 1 -3 -1]\n",
        " [ 0  0  0]\n",
        " [ 2  3 -2]\n",
        " [-3 -2  1]\n",
        " [ 1 -3  0]\n",
        " [ 1 -1 -2]\n",
        " [ 3 -1 -2]\n",
        " [ 0  3  0]\n",
        " [ 2 -3 -1]\n",
        " [ 0 -2 -2]\n",
        " [ 1  0 -3]\n",
        " [ 3 -2 -3]\n",
        " [ 2  1  3]\n",
        " [-1  3 -3]\n",
        " [ 2 -1  0]\n",
        " [ 1 -3  2]\n",
        " [ 3 -3  1]\n",
        " [ 3  2  2]\n",
        " [-3  2 -3]\n",
        " [ 0  0 -2]\n",
        " [ 2 -1  1]\n",
        " [ 2  2 -2]\n",
        " [ 2 -1  1]\n",
        " [ 3  3 -3]\n",
        " [-3  2  1]\n",
        " [ 0  3 -1]\n",
        " [-2  1  0]\n",
        " [-3  0 -2]\n",
        " [-2  0 -1]\n",
        " [-1 -1  0]\n",
        " [-1  3 -1]\n",
        " [-1 -3 -1]\n",
        " [ 1  1 -1]\n",
        " [ 0  1  2]\n",
        " [-1  1  1]\n",
        " [-2  1 -3]\n",
        " [-2  0 -2]\n",
        " [ 3  3 -2]\n",
        " [ 0 -1  3]\n",
        " [-2  2  3]\n",
        " [ 1 -2 -3]\n",
        " [-3 -3  0]\n",
        " [ 3  3 -2]\n",
        " [ 2 -1 -2]\n",
        " [-3 -1 -3]\n",
        " [-3 -2 -2]\n",
        " [-1 -1  0]\n",
        " [-1 -3  2]\n",
        " [-3  1 -2]\n",
        " [ 2 -2 -1]\n",
        " [ 2  0 -1]\n",
        " [ 2  3 -2]\n",
        " [ 2  2 -3]\n",
        " [ 1  1  0]\n",
        " [ 3  1  2]\n",
        " [-2  2 -1]\n",
        " [-1  0  2]\n",
        " [ 3 -2  1]\n",
        " [-1 -3 -1]\n",
        " [ 1  2  3]\n",
        " [-3  3  2]\n",
        " [-3 -3 -2]\n",
        " [ 1 -1  0]\n",
        " [ 0  0  1]\n",
        " [-3 -3 -1]\n",
        " [-1  0 -2]\n",
        " [-2  1 -2]\n",
        " [-2  2 -1]\n",
        " [-2  1  2]\n",
        " [ 0  1  0]\n",
        " [ 1  1  2]\n",
        " [ 1  0  3]\n",
        " [ 0 -1 -3]\n",
        " [-3 -3 -2]\n",
        " [ 0  2 -1]\n",
        " [-1 -2  0]\n",
        " [-2  3 -1]\n",
        " [ 2  2  2]\n",
        " [ 0 -2 -3]\n",
        " [-2  1  1]\n",
        " [ 2 -1  1]\n",
        " [-3 -3 -3]\n",
        " [ 3  1  1]\n",
        " [ 3  0  2]\n",
        " [ 3  1  0]\n",
        " [-2  1  3]\n",
        " [ 3  1  0]\n",
        " [-3 -3  2]\n",
        " [ 0 -2 -1]\n",
        " [ 0  1  0]\n",
        " [ 0 -2 -2]\n",
        " [ 0  3  2]\n",
        " [ 0  0 -2]\n",
        " [-2  3  3]\n",
        " [ 1  1  1]\n",
        " [ 1 -3  2]\n",
        " [ 0  2  1]\n",
        " [-2  2  2]\n",
        " [ 1 -1  2]\n",
        " [-3  3  0]\n",
        " [ 1 -3  1]\n",
        " [ 0  2 -1]\n",
        " [ 3  3  1]\n",
        " [ 2  3 -1]\n",
        " [-3 -2  3]\n",
        " [-3 -3  1]\n",
        " [ 3  1  0]\n",
        " [ 0 -2 -1]\n",
        " [ 1  3 -2]\n",
        " [-2  3  1]\n",
        " [ 1 -1 -1]\n",
        " [-1 -3 -1]\n",
        " [-1  1  1]\n",
        " [-3  3 -2]\n",
        " [ 0  0 -2]\n",
        " [ 2 -3  0]\n",
        " [ 1  3  1]\n",
        " [-1 -1  1]\n",
        " [ 2 -2 -1]\n",
        " [ 3  0  2]\n",
        " [ 2  2 -1]\n",
        " [-2  0 -2]\n",
        " [-3  2  1]\n",
        " [ 0  1 -2]\n",
        " [ 1 -2  1]\n",
        " [-1 -1  1]\n",
        " [-2 -2 -1]\n",
        " [ 2  1 -1]\n",
        " [-2 -3  1]\n",
        " [-3  3  3]\n",
        " [ 3 -3  0]\n",
        " [ 3  3  3]\n",
        " [ 3  1  2]\n",
        " [ 2 -1 -2]\n",
        " [ 0  0  0]\n",
        " [ 2 -2  1]\n",
        " [ 3  1 -2]\n",
        " [ 2 -3  1]\n",
        " [-3 -3 -2]\n",
        " [-2  0 -3]\n",
        " [ 3  0  1]\n",
        " [-3  1 -1]\n",
        " [ 0  1  2]\n",
        " [-3  0  2]\n",
        " [ 2 -3 -2]\n",
        " [-1  3  0]\n",
        " [-2  2 -1]\n",
        " [ 1 -3  1]\n",
        " [ 0  1  2]\n",
        " [ 0  1 -2]\n",
        " [ 0  3  1]\n",
        " [ 1 -3  1]\n",
        " [ 0  0  3]\n",
        " [ 2 -3  0]\n",
        " [-2  1  1]\n",
        " [ 3  2  0]\n",
        " [ 3  2  1]\n",
        " [-1  3 -2]\n",
        " [-3  3  2]\n",
        " [ 0 -2  1]]\n"
       ]
      }
     ],
     "prompt_number": 29
    },
    {
     "cell_type": "code",
     "collapsed": false,
     "input": [
      "slice_thickness = .05\n",
      "for j in [-3,-2,-1,0,1,2,3]:\n",
      "    igr = bcMtrx[:,2] >= j\n",
      "    ilt = bcMtrx[:,2] <= j + slice_thickness\n",
      "    irange = igr * ilt\n",
      "    #z[irange]\n",
      "    fig = plt.figure(facecolor=\"k\")\n",
      "    ax = fig.add_subplot(1,1,1, axisbg=\"k\")    \n",
      "    ax.plot(bcMtrx[irange,0],bcMtrx[irange,1],'o',c='w') #, backgroundcolor='b'\n",
      "    ax.axis([-4, 4, -4, 4])\n",
      "    ax.set_axis_bgcolor('r')\n",
      "    plt.axis('off')\n",
      "    fname = wkdir + '/test_' + str(j) + '.tif'\n",
      "    fig.savefig(fname,facecolor='k',dpi=200)\n",
      "    show()\n",
      "plt.close()"
     ],
     "language": "python",
     "metadata": {},
     "outputs": [
      {
       "metadata": {},
       "output_type": "display_data",
       "png": "[encoded data removed]",
       "text": [
        "<matplotlib.figure.Figure at 0x10ab01f90>"
       ]
      },
      {
       "metadata": {},
       "output_type": "display_data",
       "png": "[encoded data removed]",
       "text": [
        "<matplotlib.figure.Figure at 0x1127a81d0>"
       ]
      },
      {
       "metadata": {},
       "output_type": "display_data",
       "png": "[encoded data removed]",
       "text": [
        "<matplotlib.figure.Figure at 0x115dd0310>"
       ]
      },
      {
       "metadata": {},
       "output_type": "display_data",
       "png": "[encoded data removed]",
       "text": [
        "<matplotlib.figure.Figure at 0x105cc3c90>"
       ]
      },
      {
       "metadata": {},
       "output_type": "display_data",
       "png": "[encoded data removed]",
       "text": [
        "<matplotlib.figure.Figure at 0x1096ef990>"
       ]
      },
      {
       "metadata": {},
       "output_type": "display_data",
       "png": "[encoded data removed]",
       "text": [
        "<matplotlib.figure.Figure at 0x108fc1410>"
       ]
      },
      {
       "metadata": {},
       "output_type": "display_data",
       "png": "[encoded data removed]",
       "text": [
        "<matplotlib.figure.Figure at 0x1096c29d0>"
       ]
      }
     ],
     "prompt_number": 30
    },
    {
     "cell_type": "markdown",
     "metadata": {},
     "source": [
      "### create tif images from matrix coordinates ### "
     ]
    },
    {
     "cell_type": "code",
     "collapsed": false,
     "input": [
      "def circle_around_coord(x,y,r,zero_grid):\n",
      "    '''\n",
      "    x - x position of center\n",
      "    y - y position of center\n",
      "    r - radius of circle around center\n",
      "    zero_grid - matrix\n",
      "    '''\n",
      "    #(x-center_x)**2 + (y-center_y)**2 <= radius**2\n",
      "    mtrx = zero_grid.copy()\n",
      "    xAx = np.arange(zero_grid.shape[0])\n",
      "    yAx = np.arange(zero_grid.shape[1])\n",
      "    dx = np.abs(xAx - x)\n",
      "    dy = np.abs(xAx - y)\n",
      "    ### create matrix of euclidian distance form the point (x,y)\n",
      "    eucMtrx = zero_grid.copy() \n",
      "    for ix in range(zero_grid.shape[0]):\n",
      "        for iy in range(zero_grid.shape[0]):\n",
      "            eucMtrx[ix,iy] = np.sqrt(dx[ix]**2 + dy[iy]**2)\n",
      "    bCircle = eucMtrx < r # boolian matrix of the circle\n",
      "    mtrx[bCircle] = 1\n",
      "    return mtrx"
     ],
     "language": "python",
     "metadata": {},
     "outputs": [],
     "prompt_number": 9
    },
    {
     "cell_type": "code",
     "collapsed": false,
     "input": [
      "def circles_around_coord(xy,r,zero_grid):\n",
      "    '''\n",
      "    xy - numpy matrix of n bead coordinates (n x 2)\n",
      "    r - radius of circle around center\n",
      "    zero_grid - matrix\n",
      "    '''\n",
      "    #(x-center_x)**2 + (y-center_y)**2 <= radius**2\n",
      "    mtrx = zero_grid.copy()\n",
      "    xAx = np.arange(zero_grid.shape[0])\n",
      "    yAx = np.arange(zero_grid.shape[1])\n",
      "    for i in range(xy.shape[0]):\n",
      "        x = xy[i,0]\n",
      "        y = xy[i,1]\n",
      "        dx = np.abs(xAx - x)\n",
      "        dy = np.abs(xAx - y)\n",
      "        ### create matrix of euclidian distance form the point (x,y)\n",
      "        eucMtrx = zero_grid.copy() \n",
      "        for ix in range(zero_grid.shape[0]):\n",
      "            for iy in range(zero_grid.shape[0]):\n",
      "                eucMtrx[ix,iy] = np.sqrt(dx[ix]**2 + dy[iy]**2)\n",
      "        bCircle = eucMtrx < r # boolian matrix of the circle\n",
      "        mtrx[bCircle] = 1\n",
      "    return mtrx"
     ],
     "language": "python",
     "metadata": {},
     "outputs": [],
     "prompt_number": 21
    },
    {
     "cell_type": "code",
     "collapsed": false,
     "input": [
      "### run circle coord\n",
      "x=50\n",
      "y=50\n",
      "r=20\n",
      "zero_grid = np.zeros((100,100))\n",
      "crcMtrx = circle_around_coord(x,y,r,zero_grid) \n",
      "plt.imshow(crcMtrx)\n",
      "\n",
      "### run circles coord\n",
      "frmLarge = np.array([[710,   300], [284,   300]])\n",
      "zero_grid = np.zeros((994,994))\n",
      "r=10\n",
      "crcMtrx = circles_around_coord(frmLarge,r,zero_grid) \n",
      "plt.imshow(crcMtrx)\n"
     ],
     "language": "python",
     "metadata": {},
     "outputs": [
      {
       "metadata": {},
       "output_type": "pyout",
       "prompt_number": 26,
       "text": [
        "<matplotlib.image.AxesImage at 0x10ab0fed0>"
       ]
      },
      {
       "metadata": {},
       "output_type": "display_data",
       "png": "[encoded data removed]",
       "text": [
        "<matplotlib.figure.Figure at 0x10ab0f590>"
       ]
      }
     ],
     "prompt_number": 26
    },
    {
     "cell_type": "markdown",
     "metadata": {},
     "source": [
      "### write many tif images along multiple planes - multiframe tiff file ###"
     ]
    },
    {
     "cell_type": "code",
     "collapsed": false,
     "input": [
      "slice_thickness = .05\n",
      "nFrames = 7\n",
      "boxMin = -3\n",
      "boxMax = 3\n",
      "spacing = (boxMax - boxMin + 1)/nFrames\n",
      "steps = np.arange(boxMin,boxMax+1,spacing)\n",
      "r=2 # pixel radius around bead center\n",
      "\n",
      "mag = 1000/nFrames\n",
      "npix = mag*nFrames\n",
      "mtrx = np.zeros((nFrames,npix,npix))\n",
      "for j in steps:\n",
      "    igr = bcMtrx[:,2] >= j\n",
      "    ilt = bcMtrx[:,2] <= j + slice_thickness\n",
      "    irange = igr * ilt\n",
      "    bcMtrx[irange,0]\n",
      "    ### turn cooordinates into a matrix form\n",
      "    frm = bcMtrx[irange,:2]\n",
      "    frmLarge = frm*mag + (-boxMin * mag)\n",
      "    mtrx[j,frmLarge[:,0],frmLarge[:,1]] = 1\n",
      "    ### create a circles around the center of beads\n",
      "    crcMtrx = circles_around_coord(frmLarge,r,zero_grid)\n",
      "    mtrx[j,:,:] = crcMtrx\n",
      "    plt.imshow(crcMtrx)\n",
      "### write matrix to multiframe tiff\n",
      "#image = np.zeros((32, 256, 256), 'uint16')\n",
      "mtrx = np.array(mtrx, 'uint16')\n",
      "fname = wkdir + '/test_multiframe.tif'\n",
      "imsave(fname, mtrx)"
     ],
     "language": "python",
     "metadata": {},
     "outputs": [
      {
       "metadata": {},
       "output_type": "display_data",
       "png": "[encoded data removed]",
       "text": [
        "<matplotlib.figure.Figure at 0x10ab166d0>"
       ]
      }
     ],
     "prompt_number": 27
    },
    {
     "cell_type": "markdown",
     "metadata": {},
     "source": [
      "### store metadata for saved tiff images ###"
     ]
    },
    {
     "cell_type": "code",
     "collapsed": false,
     "input": [
      "### write metadata\n",
      "mtrx = np.array(mtrx, 'uint16')\n",
      "fname = wkdir + '/test1_multiframe1.tif'\n",
      "meatadata = 'ImageJ=1.49m\\nimages=81\\nslices=81\\nunit=um\\nspacing=2.0\\nloop=false\\n'\n",
      "imsave(fname, mtrx, description=metadata)\n",
      "\n",
      "\n",
      "### load metadata back in\n",
      "import tifffile\n",
      "with tifffile.TiffFile(fname) as tif:\n",
      "    data = tif.asarray()\n",
      "    metadata = tif[0].image_description\n"
     ],
     "language": "python",
     "metadata": {},
     "outputs": [
      {
       "ename": "NameError",
       "evalue": "name 'metadata' is not defined",
       "output_type": "pyerr",
       "traceback": [
        "\u001b[0;31m---------------------------------------------------------------------------\u001b[0m\n\u001b[0;31mNameError\u001b[0m                                 Traceback (most recent call last)",
        "\u001b[0;32m<ipython-input-28-b141b8b6c660>\u001b[0m in \u001b[0;36m<module>\u001b[0;34m()\u001b[0m\n\u001b[1;32m      3\u001b[0m \u001b[0mfname\u001b[0m \u001b[0;34m=\u001b[0m \u001b[0mwkdir\u001b[0m \u001b[0;34m+\u001b[0m \u001b[0;34m'/test_multiframe.tif'\u001b[0m\u001b[0;34m\u001b[0m\u001b[0m\n\u001b[1;32m      4\u001b[0m \u001b[0mmeatadata\u001b[0m \u001b[0;34m=\u001b[0m \u001b[0;34m'ImageJ=1.49m\\nimages=81\\nslices=81\\nunit=um\\nspacing=2.0\\nloop=false\\n'\u001b[0m\u001b[0;34m\u001b[0m\u001b[0m\n\u001b[0;32m----> 5\u001b[0;31m \u001b[0mimsave\u001b[0m\u001b[0;34m(\u001b[0m\u001b[0mfname\u001b[0m\u001b[0;34m,\u001b[0m \u001b[0mmtrx\u001b[0m\u001b[0;34m,\u001b[0m \u001b[0mdescription\u001b[0m\u001b[0;34m=\u001b[0m\u001b[0mmetadata\u001b[0m\u001b[0;34m)\u001b[0m\u001b[0;34m\u001b[0m\u001b[0m\n\u001b[0m\u001b[1;32m      6\u001b[0m \u001b[0;34m\u001b[0m\u001b[0m\n\u001b[1;32m      7\u001b[0m \u001b[0;34m\u001b[0m\u001b[0m\n",
        "\u001b[0;31mNameError\u001b[0m: name 'metadata' is not defined"
       ]
      }
     ],
     "prompt_number": 28
    },
    {
     "cell_type": "markdown",
     "metadata": {},
     "source": [
      "### take 45 degree plane of 3D matrix ###"
     ]
    },
    {
     "cell_type": "code",
     "collapsed": false,
     "input": [
      "mtrx = np.random.random_integers(-3,3,size=(10,10,10))\n",
      "#45 degree angle hits the \n",
      "mtrx[:,0,-1]"
     ],
     "language": "python",
     "metadata": {},
     "outputs": []
    },
    {
     "cell_type": "markdown",
     "metadata": {},
     "source": [
      "### "
     ]
    }
   ],
   "metadata": {}
  }
 ]
}